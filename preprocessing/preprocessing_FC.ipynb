{
 "cells": [
  {
   "cell_type": "markdown",
   "metadata": {},
   "source": [
    "# Pré-processamento"
   ]
  },
  {
   "cell_type": "markdown",
   "metadata": {},
   "source": [
    "## Importações"
   ]
  },
  {
   "cell_type": "code",
   "execution_count": 35,
   "metadata": {},
   "outputs": [],
   "source": [
    "import pandas as pd\n",
    "\n",
    "from preprocess_funcs import *"
   ]
  },
  {
   "cell_type": "markdown",
   "metadata": {},
   "source": [
    "## Aplicação"
   ]
  },
  {
   "cell_type": "code",
   "execution_count": 36,
   "metadata": {},
   "outputs": [],
   "source": [
    "categorical_cols = ['Marital status', \n",
    "            'Application mode', \n",
    "            'Course',\n",
    "            'Daytime/evening attendance', \n",
    "            'Previous qualification', \n",
    "            'Nacionality',\n",
    "            'Mother\\'s qualification', \n",
    "            'Father\\'s qualification',\n",
    "            'Mother\\'s occupation', \n",
    "            'Father\\'s occupation', \n",
    "            'Displaced',\n",
    "            'Educational special needs', \n",
    "            'Debtor', \n",
    "            'Tuition fees up to date',\n",
    "            'Gender', \n",
    "            'Scholarship holder', \n",
    "            'International',\n",
    "            'Application order']\n",
    "\n",
    "numerical_cols = ['Age at enrollment',\n",
    "            'Curricular units 1st sem (credited)',\n",
    "            'Curricular units 1st sem (enrolled)',\n",
    "            'Curricular units 1st sem (evaluations)',\n",
    "            'Curricular units 1st sem (approved)',\n",
    "            'Curricular units 1st sem (grade)',\n",
    "            'Curricular units 1st sem (without evaluations)',\n",
    "            'Curricular units 2nd sem (credited)',\n",
    "            'Curricular units 2nd sem (enrolled)',\n",
    "            'Curricular units 2nd sem (evaluations)',\n",
    "            'Curricular units 2nd sem (approved)',\n",
    "            'Curricular units 2nd sem (grade)',\n",
    "            'Curricular units 2nd sem (without evaluations)',\n",
    "            'Unemployment rate',\n",
    "            'Inflation rate', \n",
    "            'GDP']\n",
    "\n",
    "target = ['Target']"
   ]
  },
  {
   "cell_type": "markdown",
   "metadata": {},
   "source": [
    "### Amostra\n",
    "Pré-processamento usado para a etapa de análise exploratória"
   ]
  },
  {
   "cell_type": "code",
   "execution_count": 37,
   "metadata": {},
   "outputs": [],
   "source": [
    "size = '_10'\n",
    "df_10 = pd.read_csv(f'../data/students{size}.csv')\n",
    "filename = f\"../data/preprocessed/{size}\""
   ]
  },
  {
   "cell_type": "markdown",
   "metadata": {},
   "source": [
    "#### numéricas"
   ]
  },
  {
   "cell_type": "code",
   "execution_count": 38,
   "metadata": {},
   "outputs": [
    {
     "name": "stdout",
     "output_type": "stream",
     "text": [
      "Arquivo salvo: ../data/preprocessed/_10_num.csv\n",
      "Arquivo salvo: ../data/preprocessed/_10_ohe.csv\n",
      "Arquivo salvo: ../data/preprocessed/_10_num_ohe.csv\n"
     ]
    }
   ],
   "source": [
    "num_transformations = {\n",
    "    'num': (remove_unused, {\n",
    "        'cols': categorical_cols\n",
    "    }),\n",
    "    'ohe': (one_hot_encoding, {\n",
    "        'categorical_cols': target,\n",
    "        'drop_first': False\n",
    "    }),\n",
    "}\n",
    "\n",
    "preprocess_data(df_10, num_transformations, filename)"
   ]
  },
  {
   "cell_type": "markdown",
   "metadata": {},
   "source": [
    "#### categóricas"
   ]
  },
  {
   "cell_type": "code",
   "execution_count": 39,
   "metadata": {},
   "outputs": [
    {
     "name": "stdout",
     "output_type": "stream",
     "text": [
      "Arquivo salvo: ../data/preprocessed/_10_cat.csv\n"
     ]
    }
   ],
   "source": [
    "cat_transformations = {\n",
    "    'cat': (remove_unused, {\n",
    "        'cols': numerical_cols\n",
    "    })\n",
    "}\n",
    "\n",
    "preprocess_data(df_10, cat_transformations, filename)"
   ]
  },
  {
   "cell_type": "markdown",
   "metadata": {},
   "source": [
    "## Pré-processamento pós análise\n",
    "Após a análise de de importancia das features, vamos optar por remover as menos importantes, ou que possuem uma alta correlação entre si"
   ]
  },
  {
   "cell_type": "code",
   "execution_count": null,
   "metadata": {},
   "outputs": [],
   "source": []
  },
  {
   "cell_type": "markdown",
   "metadata": {},
   "source": [
    "### Complemento"
   ]
  },
  {
   "cell_type": "code",
   "execution_count": 40,
   "metadata": {},
   "outputs": [],
   "source": [
    "size = '_90'\n",
    "df_90 = pd.read_csv(f'../data/students{size}.csv')"
   ]
  },
  {
   "cell_type": "code",
   "execution_count": 41,
   "metadata": {},
   "outputs": [
    {
     "name": "stdout",
     "output_type": "stream",
     "text": [
      "Arquivo salvo: ../data/preprocessed/_10_drp.csv\n",
      "Arquivo salvo: ../data/preprocessed/_10_ohe.csv\n",
      "Arquivo salvo: ../data/preprocessed/_10_drp_ohe.csv\n"
     ]
    }
   ],
   "source": [
    "drop_cols = ['Marital status', \n",
    "             'Application order', \n",
    "             'Previous qualification', \n",
    "             'Nacionality', \n",
    "             \"Father's qualification\", \n",
    "             \"Mother's occupation\", \n",
    "             \"Father's occupation\", \n",
    "             'Educational special needs', \n",
    "             'International',\n",
    "             'Curricular units 1st sem (credited)',\n",
    "             'Curricular units 1st sem (enrolled)',\n",
    "             'Curricular units 1st sem (grade)',\n",
    "             'Curricular units 2nd sem (credited)',\n",
    "             'Curricular units 2nd sem (enrolled)',\n",
    "             'Curricular units 2nd sem (grade)',\n",
    "             'Curricular units 1st sem (evaluations)',\n",
    "             'Curricular units 1st sem (without evaluations)',\n",
    "             'Curricular units 2nd sem (evaluations)',\n",
    "             'Curricular units 2nd sem (without evaluations)']\n",
    "\n",
    "ohe = ['Application mode', \n",
    "        'Course',\n",
    "        'Daytime/evening attendance',\n",
    "        'Mother\\'s qualification', \n",
    "        'Displaced',\n",
    "        'Debtor', \n",
    "        'Tuition fees up to date',\n",
    "        'Gender', \n",
    "        'Scholarship holder',\n",
    "        'Target']\n",
    "\n",
    "transformations = {\n",
    "    'drp': (remove_unused, {\n",
    "        'cols': drop_cols\n",
    "    }),\n",
    "    'ohe': (one_hot_encoding, {\n",
    "        'categorical_cols': ohe,\n",
    "        'drop_first': False\n",
    "    }),\n",
    "}\n",
    "\n",
    "preprocess_data(df_90, transformations, filename)"
   ]
  }
 ],
 "metadata": {
  "kernelspec": {
   "display_name": "Python 3",
   "language": "python",
   "name": "python3"
  },
  "language_info": {
   "codemirror_mode": {
    "name": "ipython",
    "version": 3
   },
   "file_extension": ".py",
   "mimetype": "text/x-python",
   "name": "python",
   "nbconvert_exporter": "python",
   "pygments_lexer": "ipython3",
   "version": "3.12.3"
  }
 },
 "nbformat": 4,
 "nbformat_minor": 2
}
